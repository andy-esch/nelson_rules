{
 "cells": [
  {
   "cell_type": "markdown",
   "metadata": {},
   "source": [
    "## [Nelson rules](https://en.m.wikipedia.org/wiki/Nelson_rules) describe probable behaviors in time series data \n",
    "\n"
   ]
  },
  {
   "cell_type": "code",
   "execution_count": 87,
   "metadata": {
    "collapsed": false
   },
   "outputs": [
    {
     "name": "stdout",
     "output_type": "stream",
     "text": [
      "Populating the interactive namespace from numpy and matplotlib\n"
     ]
    }
   ],
   "source": [
    "%pylab inline\n",
    "matplotlib.style.use('ggplot')\n",
    "import pandas as pd"
   ]
  },
  {
   "cell_type": "code",
   "execution_count": 137,
   "metadata": {
    "collapsed": true
   },
   "outputs": [],
   "source": [
    "# Nelson's rules\n",
    "\n",
    "def nelson1(arr):\n",
    "    \"\"\"\n",
    "        Input: \n",
    "          arr: array of numbers\n",
    "\n",
    "        Description: One point is more than 3 standard deviations from the mean.\n",
    "        Problem: One sample (two shown in this case) is grossly out of control.\n",
    "        Solves: identifying outliers?\n",
    "    \"\"\"\n",
    "    stddev = np.std(arr)\n",
    "    mn = np.mean(arr)\n",
    "    tf = (np.abs((arr - mn)) > 3.0*stddev).any()\n",
    "\n",
    "    return tf\n",
    "\n",
    "def nelson2(arr):\n",
    "    \"\"\"\n",
    "        Input:\n",
    "          arr: array of numbers\n",
    "\n",
    "        Description: Nine (or more) points in a row are on the same side of the mean.\n",
    "        Problem: Some prolonged bias exists.\n",
    "    \"\"\"\n",
    "    parr = pd.Series(arr)\n",
    "    mn = parr.mean()\n",
    "    rollmn = pd.rolling_mean((parr > mn),9)\n",
    "    # If nine points in a row are above or below the mean, return trues\n",
    "    tf1 = ( rollmn > 0.999 ).any()\n",
    "    tf2 = ( rollmn < 0.001 ).any()\n",
    "    \n",
    "    return tf1 or tf2\n",
    "\n",
    "def nelson3(arr):\n",
    "    \"\"\"\n",
    "        Input:\n",
    "          arr: array of numbers\n",
    "        Description: Six (or more) points in a row are continually increasing (or decreasing).\n",
    "        Problem: A trend exists.\n",
    "    \"\"\"\n",
    "    parr = pd.Series(arr)\n",
    "    tf_incr = pd.rolling_mean(parr[:-1] < parr[1:],7).any()\n",
    "    tf_decr = pd.rolling_mean(parr[:-1] > parr[1:],7).any()\n",
    "    \n",
    "    return tf_incr or tf_decr\n",
    "\n",
    "def nelson4(arr):\n",
    "    \"\"\"\n",
    "        Input:\n",
    "          arr: array of numbers\n",
    "        Description: Fourteen (or more) points in a row alternate in direction, increasing then decreasing.\n",
    "        Problem: This much oscillation is beyond noise. Note that the rule is concerned with directionality only. The position of the mean and the size of the standard deviation have no bearing.\n",
    "    \"\"\"\n",
    "    \n",
    "    return tf"
   ]
  },
  {
   "cell_type": "code",
   "execution_count": 138,
   "metadata": {
    "collapsed": false
   },
   "outputs": [
    {
     "data": {
      "text/plain": [
       "True"
      ]
     },
     "execution_count": 138,
     "metadata": {},
     "output_type": "execute_result"
    }
   ],
   "source": []
  },
  {
   "cell_type": "code",
   "execution_count": 20,
   "metadata": {
    "collapsed": false
   },
   "outputs": [
    {
     "name": "stdout",
     "output_type": "stream",
     "text": [
      "287.783604737 498.9559 999 0\n",
      "False\n"
     ]
    }
   ],
   "source": [
    "import numpy.random as nprnd\n",
    "arr = randint(1000, size=10000)\n",
    "stddev = np.std(arr)\n",
    "mn = np.mean(arr)\n",
    "maxval = np.max(arr)\n",
    "minval = np.min(arr)\n",
    "print(stddev,mn,maxval,minval)\n",
    "tf = (np.abs((arr - mn)) > (3.0 * stddev)).any()\n",
    "print(tf)"
   ]
  },
  {
   "cell_type": "code",
   "execution_count": 132,
   "metadata": {
    "collapsed": false
   },
   "outputs": [
    {
     "name": "stdout",
     "output_type": "stream",
     "text": [
      "n1: False\n"
     ]
    },
    {
     "ename": "ValueError",
     "evalue": "The truth value of a Series is ambiguous. Use a.empty, a.bool(), a.item(), a.any() or a.all().",
     "output_type": "error",
     "traceback": [
      "\u001b[0;31m---------------------------------------------------------------------------\u001b[0m",
      "\u001b[0;31mValueError\u001b[0m                                Traceback (most recent call last)",
      "\u001b[0;32m<ipython-input-132-fbf8acae2a15>\u001b[0m in \u001b[0;36m<module>\u001b[0;34m()\u001b[0m\n\u001b[1;32m      1\u001b[0m \u001b[0mprint\u001b[0m\u001b[0;34m(\u001b[0m\u001b[0;34m\"n1:\"\u001b[0m\u001b[0;34m,\u001b[0m\u001b[0mnelson1\u001b[0m\u001b[0;34m(\u001b[0m\u001b[0marr\u001b[0m\u001b[0;34m)\u001b[0m\u001b[0;34m)\u001b[0m\u001b[0;34m\u001b[0m\u001b[0m\n\u001b[0;32m----> 2\u001b[0;31m \u001b[0mprint\u001b[0m\u001b[0;34m(\u001b[0m\u001b[0;34m\"n2:\"\u001b[0m\u001b[0;34m,\u001b[0m\u001b[0mnelson2\u001b[0m\u001b[0;34m(\u001b[0m\u001b[0marr\u001b[0m\u001b[0;34m)\u001b[0m\u001b[0;34m)\u001b[0m\u001b[0;34m\u001b[0m\u001b[0m\n\u001b[0m\u001b[1;32m      3\u001b[0m \u001b[0mprint\u001b[0m\u001b[0;34m(\u001b[0m\u001b[0;34m\"n3:\"\u001b[0m\u001b[0;34m,\u001b[0m\u001b[0mnelson3\u001b[0m\u001b[0;34m(\u001b[0m\u001b[0marr\u001b[0m\u001b[0;34m)\u001b[0m\u001b[0;34m)\u001b[0m\u001b[0;34m\u001b[0m\u001b[0m\n",
      "\u001b[0;32m<ipython-input-130-3c94cd19413b>\u001b[0m in \u001b[0;36mnelson2\u001b[0;34m(arr)\u001b[0m\n\u001b[1;32m     28\u001b[0m     \u001b[0mrollmn\u001b[0m \u001b[0;34m=\u001b[0m \u001b[0mpd\u001b[0m\u001b[0;34m.\u001b[0m\u001b[0mrolling_mean\u001b[0m\u001b[0;34m(\u001b[0m\u001b[0;34m(\u001b[0m\u001b[0mparr\u001b[0m \u001b[0;34m>\u001b[0m \u001b[0mmn\u001b[0m\u001b[0;34m)\u001b[0m\u001b[0;34m,\u001b[0m\u001b[0;36m9\u001b[0m\u001b[0;34m)\u001b[0m\u001b[0;34m\u001b[0m\u001b[0m\n\u001b[1;32m     29\u001b[0m     \u001b[0;31m# If nine points in a row are above or below the mean, return trues\u001b[0m\u001b[0;34m\u001b[0m\u001b[0;34m\u001b[0m\u001b[0m\n\u001b[0;32m---> 30\u001b[0;31m     \u001b[0mtf\u001b[0m \u001b[0;34m=\u001b[0m \u001b[0;34m(\u001b[0m \u001b[0mrollmn\u001b[0m \u001b[0;34m>\u001b[0m \u001b[0;36m0.999\u001b[0m \u001b[0;32mor\u001b[0m \u001b[0mrollmn\u001b[0m \u001b[0;34m<\u001b[0m \u001b[0;36m0.001\u001b[0m\u001b[0;34m)\u001b[0m\u001b[0;34m.\u001b[0m\u001b[0many\u001b[0m\u001b[0;34m(\u001b[0m\u001b[0;34m)\u001b[0m\u001b[0;34m\u001b[0m\u001b[0m\n\u001b[0m\u001b[1;32m     31\u001b[0m \u001b[0;34m\u001b[0m\u001b[0m\n\u001b[1;32m     32\u001b[0m     \u001b[0;32mreturn\u001b[0m \u001b[0mtf\u001b[0m\u001b[0;34m\u001b[0m\u001b[0m\n",
      "\u001b[0;32m/opt/local/Library/Frameworks/Python.framework/Versions/3.4/lib/python3.4/site-packages/pandas/core/generic.py\u001b[0m in \u001b[0;36m__nonzero__\u001b[0;34m(self)\u001b[0m\n\u001b[1;32m    712\u001b[0m         raise ValueError(\"The truth value of a {0} is ambiguous. \"\n\u001b[1;32m    713\u001b[0m                          \u001b[0;34m\"Use a.empty, a.bool(), a.item(), a.any() or a.all().\"\u001b[0m\u001b[0;34m\u001b[0m\u001b[0m\n\u001b[0;32m--> 714\u001b[0;31m                          .format(self.__class__.__name__))\n\u001b[0m\u001b[1;32m    715\u001b[0m \u001b[0;34m\u001b[0m\u001b[0m\n\u001b[1;32m    716\u001b[0m     \u001b[0m__bool__\u001b[0m \u001b[0;34m=\u001b[0m \u001b[0m__nonzero__\u001b[0m\u001b[0;34m\u001b[0m\u001b[0m\n",
      "\u001b[0;31mValueError\u001b[0m: The truth value of a Series is ambiguous. Use a.empty, a.bool(), a.item(), a.any() or a.all()."
     ]
    }
   ],
   "source": [
    "print(\"n1:\",nelson1(arr))\n",
    "print(\"n2:\",nelson2(arr))\n",
    "print(\"n3:\",nelson3(arr))"
   ]
  },
  {
   "cell_type": "code",
   "execution_count": 84,
   "metadata": {
    "collapsed": false
   },
   "outputs": [
    {
     "data": {
      "text/plain": [
       "True"
      ]
     },
     "execution_count": 84,
     "metadata": {},
     "output_type": "execute_result"
    }
   ],
   "source": [
    "parr = pd.Series(arr[1155:1185])\n",
    "(pd.rolling_mean((parr > parr.mean()),9) > 0.999).any()"
   ]
  },
  {
   "cell_type": "code",
   "execution_count": 103,
   "metadata": {
    "collapsed": false
   },
   "outputs": [
    {
     "data": {
      "text/plain": [
       "<matplotlib.lines.Line2D at 0x10b529828>"
      ]
     },
     "execution_count": 103,
     "metadata": {},
     "output_type": "execute_result"
    },
    {
     "data": {
      "image/png": "[encoded data removed]",
      "text/plain": [
       "<matplotlib.figure.Figure at 0x10b5240b8>"
      ]
     },
     "metadata": {},
     "output_type": "display_data"
    }
   ],
   "source": [
    "a = parr.plot()\n",
    "a.axhline(parr.mean(), linestyle='-')"
   ]
  },
  {
   "cell_type": "code",
   "execution_count": 112,
   "metadata": {
    "collapsed": false
   },
   "outputs": [
    {
     "data": {
      "text/plain": [
       "<matplotlib.lines.Line2D at 0x10b72fb70>"
      ]
     },
     "execution_count": 112,
     "metadata": {},
     "output_type": "execute_result"
    },
    {
     "data": {
      "image/png": "[encoded data removed]",
      "text/plain": [
       "<matplotlib.figure.Figure at 0x10b72f2e8>"
      ]
     },
     "metadata": {},
     "output_type": "display_data"
    }
   ],
   "source": [
    "df = pd.concat([parr,pd.Series(np.arange(len(parr)))],axis=1)\n",
    "df.columns = ['r','c']\n",
    "a = df.plot(kind='scatter',x='c',y='r')\n",
    "a.axhline(df.r.mean(),linestyle='-')"
   ]
  },
  {
   "cell_type": "code",
   "execution_count": 123,
   "metadata": {
    "collapsed": false
   },
   "outputs": [
    {
     "data": {
      "text/plain": [
       "True"
      ]
     },
     "execution_count": 123,
     "metadata": {},
     "output_type": "execute_result"
    }
   ],
   "source": [
    "pd.rolling_mean(arr[:2:] < arr[2:2],7).any()"
   ]
  },
  {
   "cell_type": "code",
   "execution_count": 128,
   "metadata": {
    "collapsed": false
   },
   "outputs": [
    {
     "data": {
      "text/plain": [
       "array([745, 484, 809, ..., 129, 179, 439])"
      ]
     },
     "execution_count": 128,
     "metadata": {},
     "output_type": "execute_result"
    }
   ],
   "source": [
    "arr[]"
   ]
  },
  {
   "cell_type": "code",
   "execution_count": null,
   "metadata": {
    "collapsed": true
   },
   "outputs": [],
   "source": []
  }
 ],
 "metadata": {
  "kernelspec": {
   "display_name": "Python 3",
   "language": "python",
   "name": "python3"
  },
  "language_info": {
   "codemirror_mode": {
    "name": "ipython",
    "version": 3
   },
   "file_extension": ".py",
   "mimetype": "text/x-python",
   "name": "python",
   "nbconvert_exporter": "python",
   "pygments_lexer": "ipython3",
   "version": "3.4.3"
  }
 },
 "nbformat": 4,
 "nbformat_minor": 0
}
